{
  "nbformat": 4,
  "nbformat_minor": 0,
  "metadata": {
    "colab": {
      "name": "MeshAnalysiSolution UsingMatrix.ipynb",
      "provenance": [],
      "authorship_tag": "ABX9TyMxNU+o++qiGubLrENNbft3",
      "include_colab_link": true
    },
    "kernelspec": {
      "name": "python3",
      "display_name": "Python 3"
    },
    "language_info": {
      "name": "python"
    }
  },
  "cells": [
    {
      "cell_type": "markdown",
      "metadata": {
        "id": "view-in-github",
        "colab_type": "text"
      },
      "source": [
        "<a href=\"https://colab.research.google.com/github/adinovitarini/LinAlgElectricCircuit/blob/main/MeshAnalysiSolution_UsingMatrix.ipynb\" target=\"_parent\"><img src=\"https://colab.research.google.com/assets/colab-badge.svg\" alt=\"Open In Colab\"/></a>"
      ]
    },
    {
      "cell_type": "markdown",
      "metadata": {
        "id": "3i8EMetSEF3O"
      },
      "source": [
        "This code was implemented to compute the solution for compute the urrent from OCW MIT Free Course (https://ocw.mit.edu/courses/electrical-engineering-and-computer-science/6-071j-introduction-to-electronics-signals-and-measurement-spring-2006/lecture-notes/nodal_mesh_methd.pdf) page 16 and 17"
      ]
    },
    {
      "cell_type": "code",
      "metadata": {
        "id": "fL3dXnhS4ljA"
      },
      "source": [
        "import numpy as np "
      ],
      "execution_count": null,
      "outputs": []
    },
    {
      "cell_type": "code",
      "metadata": {
        "colab": {
          "base_uri": "https://localhost:8080/"
        },
        "id": "wSAOuzCL4rLP",
        "outputId": "8539e83d-7810-4d35-971b-9e258a5b46eb"
      },
      "source": [
        "A = np.array([[5,-2],[-2,3]])\n",
        "B = np.linalg.det(A)\n",
        "print(\"determinant of matrix A is : \",B)\n",
        "y = np.array([[6],[3]])\n",
        "x = np.linalg.inv(A)\n",
        "print(\"Inverse matrix A is : \\n\",x)\n",
        "X = np.zeros((2,1))\n",
        "for i in range(len(x)):\n",
        "  for j in range(len(y[1])):\n",
        "    for k in range(len(y)):\n",
        "      X[i][j] += x[i][k]*y[k][j]\n",
        "print(\"Solution is : \\n\",X)\n",
        "current1 = X[0]\n",
        "current3 = X[1]\n",
        "current2 = current3-current1\n",
        "print('I1 = ',current1,'A')\n",
        "print('I2 = ',current2,'A')\n",
        "print('I3 = ',current3,'A')"
      ],
      "execution_count": null,
      "outputs": [
        {
          "output_type": "stream",
          "text": [
            "determinant of matrix A is :  11.000000000000002\n",
            "Inverse matrix A is : \n",
            " [[0.27272727 0.18181818]\n",
            " [0.18181818 0.45454545]]\n",
            "Solution is : \n",
            " [[2.18181818]\n",
            " [2.45454545]]\n",
            "I1 =  [2.18181818] A\n",
            "I2 =  [0.27272727] A\n",
            "I3 =  [2.45454545] A\n"
          ],
          "name": "stdout"
        }
      ]
    },
    {
      "cell_type": "code",
      "metadata": {
        "colab": {
          "base_uri": "https://localhost:8080/"
        },
        "id": "nlJhMYdJCu_U",
        "outputId": "9ce1b9d9-5442-4daa-88f9-f82cc18d3ea8"
      },
      "source": [
        "A = np.array([[10,-4,0],[-4,6,-2],[0,-2,4]])\n",
        "B = np.linalg.det(A)\n",
        "print(\"determinant of matrix A is : \",B)\n",
        "y = np.array([[12],[-6],[2]])\n",
        "x = np.linalg.inv(A)\n",
        "print(\"Inverse matrix A is : \\n\",x)\n",
        "X = np.zeros((len(y),1))\n",
        "for i in range(len(x)):\n",
        "  for j in range(len(y[1])):\n",
        "    for k in range(len(y)):\n",
        "      X[i][j] += x[i][k]*y[k][j]\n",
        "print(\"Solution is : \\n\",X)\n",
        "current1 = X[0]\n",
        "current3 = X[1]\n",
        "current5 = X[2]\n",
        "current2 = current3-current1\n",
        "current4 = current5-current3\n",
        "print('I1 = ',current1,'A')\n",
        "print('I2 = ',current2,'A')\n",
        "print('I3 = ',current3,'A')\n",
        "print('I4 = ',current4,'A')\n",
        "print('I5 = ',current5,'A')"
      ],
      "execution_count": null,
      "outputs": [
        {
          "output_type": "stream",
          "text": [
            "determinant of matrix A is :  136.00000000000006\n",
            "Inverse matrix A is : \n",
            " [[0.14705882 0.11764706 0.05882353]\n",
            " [0.11764706 0.29411765 0.14705882]\n",
            " [0.05882353 0.14705882 0.32352941]]\n",
            "Solution is : \n",
            " [[ 1.17647059]\n",
            " [-0.05882353]\n",
            " [ 0.47058824]]\n",
            "I1 =  [1.17647059] A\n",
            "I2 =  [-1.23529412] A\n",
            "I3 =  [-0.05882353] A\n",
            "I4 =  [0.52941176] A\n",
            "I5 =  [0.47058824] A\n"
          ],
          "name": "stdout"
        }
      ]
    }
  ]
}